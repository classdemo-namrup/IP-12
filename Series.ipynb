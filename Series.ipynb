{
 "cells": [
  {
   "cell_type": "code",
   "execution_count": null,
   "id": "9cfaf1c2-5171-4d1f-80fe-26ab97640a82",
   "metadata": {},
   "outputs": [],
   "source": [
    "import pandas as pd"
   ]
  },
  {
   "cell_type": "code",
   "execution_count": null,
   "id": "5f5b499c-7491-423f-ab03-83a06e477e88",
   "metadata": {},
   "outputs": [],
   "source": [
    "#What is module/library?\n",
    "#What is pandas library\n",
    "#installing pandas"
   ]
  },
  {
   "cell_type": "code",
   "execution_count": null,
   "id": "d1de86b1-2f4a-4271-8485-c43d33fca45d",
   "metadata": {},
   "outputs": [],
   "source": [
    "#Data Structure:\n",
    "# Data Structure in Pandas:\n",
    "# A data structure is a collection of data values and operations that can be applied to that data. It enables\n",
    "# efficient storage, retrieval and modification to the data. Eg: Dictionary, list, tuple\n",
    "\n",
    "# Two commonly used data structures in\n",
    "# Pandas that we will cover in this book are:\n",
    "# • Series\n",
    "# • DataFrame"
   ]
  },
  {
   "cell_type": "code",
   "execution_count": 110,
   "id": "7be23355-93f2-49f5-bbab-ff484cdd4388",
   "metadata": {},
   "outputs": [
    {
     "name": "stdout",
     "output_type": "stream",
     "text": [
      "0    10\n",
      "1    20\n",
      "2    30\n",
      "dtype: int64\n",
      "True\n"
     ]
    }
   ],
   "source": [
    "series1 = pd.Series([10,20,30])\n",
    "print(series1)\n",
    "\n",
    "s1 = pd.Series()"
   ]
  },
  {
   "cell_type": "code",
   "execution_count": 4,
   "id": "6c114687-cc95-46dc-bbe6-47e753484ea4",
   "metadata": {},
   "outputs": [
    {
     "name": "stdout",
     "output_type": "stream",
     "text": [
      "0    10.0\n",
      "1    20.0\n",
      "2    30.0\n",
      "dtype: float64\n"
     ]
    }
   ],
   "source": [
    "series1 = pd.Series([10,20.0,30])\n",
    "print(series1)"
   ]
  },
  {
   "cell_type": "code",
   "execution_count": 174,
   "id": "11c519df-4a7b-4aa0-9cc1-639b5337b28f",
   "metadata": {},
   "outputs": [
    {
     "name": "stdout",
     "output_type": "stream",
     "text": [
      "0    10\n",
      "1    20\n",
      "2    30\n",
      "dtype: object\n"
     ]
    }
   ],
   "source": [
    "series1 = pd.Series([10,20,\"30\"])\n",
    "print(series1)\n",
    "# print(type(series1[2])) \n",
    "\n",
    "# By definition and documentation Series are homogenous.\n",
    "# Series are defined as:\n",
    "# One-dimensional ndarray with axis labels (including time series).\n",
    "\n",
    "# ndarray are defined as:\n",
    "# An array object represents a multidimensional, homogeneous array of fixed-size items.\n",
    "\n",
    "# Series of dtype object, however, are tricky. Since virtually everything in python can be considered an object, \n",
    "# a huge amount of different types of variables can be referenced by this kind of Series. So while the Series itself is a\n",
    "# homogenous collection of references to objects, those individual objects when referenced may have heterogenous subtypes"
   ]
  },
  {
   "cell_type": "code",
   "execution_count": 9,
   "id": "7f13aabf-6715-474b-bc05-953d7740a6ab",
   "metadata": {},
   "outputs": [
    {
     "name": "stdout",
     "output_type": "stream",
     "text": [
      "<class 'list'> <class 'int'>\n"
     ]
    }
   ],
   "source": [
    "series1 = pd.Series([10,20,[30,40]]) #Verify Once\n",
    "print(type(series1[2]), type(series1[1]))"
   ]
  },
  {
   "cell_type": "code",
   "execution_count": 13,
   "id": "3f87e69a-71d3-412d-b502-85ea831b77f2",
   "metadata": {},
   "outputs": [
    {
     "name": "stdout",
     "output_type": "stream",
     "text": [
      "<class 'str'>\n"
     ]
    }
   ],
   "source": [
    "#Adding index separately\n",
    "s2 = pd.Series([\"Kavi\",\"Shyam\",\"Ravi\"], index=[3,5,1])\n",
    "# print(s2[0]) # key Error if accessing index which is not present\n",
    "print(s2[1])"
   ]
  },
  {
   "cell_type": "code",
   "execution_count": 14,
   "id": "61f443af-bd3f-4e7c-bab5-b1a0524596a0",
   "metadata": {},
   "outputs": [
    {
     "name": "stdout",
     "output_type": "stream",
     "text": [
      "Feb    2\n",
      "Mar    3\n",
      "Apr    4\n",
      "dtype: int64\n"
     ]
    }
   ],
   "source": [
    "#Using string as index\n",
    "s3 = pd.Series([2,3,4],index=[\"Feb\",\"Mar\",\"Apr\"])\n",
    "print(s3)"
   ]
  },
  {
   "cell_type": "code",
   "execution_count": 16,
   "id": "d0dbd57f-29f7-4042-ae07-bfae38bc0462",
   "metadata": {},
   "outputs": [
    {
     "name": "stdout",
     "output_type": "stream",
     "text": [
      "0    1\n",
      "1    2\n",
      "2    3\n",
      "3    4\n",
      "dtype: int32\n"
     ]
    }
   ],
   "source": [
    "import numpy as np # import NumPy with alias np\n",
    "array1 = np.array([1,2,3,4])\n",
    "series3 = pd.Series(array1)\n",
    "print(series3)"
   ]
  },
  {
   "cell_type": "code",
   "execution_count": null,
   "id": "77346e12-ad50-41f6-8115-cfa56822e671",
   "metadata": {},
   "outputs": [],
   "source": [
    "# When index labels are passed with the array, then the length of the index and array must be of the same\n",
    "# size, else it will result in a ValueError.\n",
    "s3 = pd.Series([2,3,4],index=[\"Feb\",\"Mar\"])\n",
    "print(s3)"
   ]
  },
  {
   "cell_type": "code",
   "execution_count": 21,
   "id": "ed2a7332-cdfb-4fb8-b07c-ba0d69852620",
   "metadata": {},
   "outputs": [
    {
     "name": "stdout",
     "output_type": "stream",
     "text": [
      "India    NewDelhi\n",
      "UK         London\n",
      "Japan       Tokyo\n",
      "dtype: object\n",
      "Output: NewDelhi\n"
     ]
    }
   ],
   "source": [
    "# Dictionary keys can be used to construct an index for a Series.\n",
    "d1 = {'India': 'NewDelhi', 'UK':'London', 'Japan': 'Tokyo'}\n",
    "s4 = pd.Series(d1)\n",
    "print(s4)\n",
    "print(\"Output:\", s4[\"India\"])"
   ]
  },
  {
   "cell_type": "markdown",
   "id": "48ebab40-ddc3-4700-a8c5-63455b2cf322",
   "metadata": {},
   "source": [
    "**Accessing Elements**"
   ]
  },
  {
   "cell_type": "code",
   "execution_count": 43,
   "id": "8e5af2f6-78b3-4305-acac-fd4b5dd35c65",
   "metadata": {},
   "outputs": [
    {
     "name": "stdout",
     "output_type": "stream",
     "text": [
      "10\n",
      "20\n",
      "20\n",
      "10\n"
     ]
    },
    {
     "name": "stderr",
     "output_type": "stream",
     "text": [
      "C:\\Users\\vivek\\AppData\\Local\\Temp\\ipykernel_4676\\1450410678.py:4: FutureWarning: Series.__getitem__ treating keys as positions is deprecated. In a future version, integer keys will always be treated as labels (consistent with DataFrame behavior). To access a value by position, use `ser.iloc[pos]`\n",
      "  print(s1[1])\n"
     ]
    }
   ],
   "source": [
    "s1 = pd.Series([10,20,30], index = [\"ten\",\"twenty\",\"thirty\"])\n",
    "print(s1.iloc[0]) #Pandas Series.iloc attribute enables purely integer-location based indexing for selection by position \n",
    "                  #over the given Series object.\n",
    "print(s1[1])\n",
    "print(s1[\"twenty\"])\n",
    "# print(s1.iloc[\"twenty\"]) #This will throw error as iloc is purely integer based indexing, it is type error.\n",
    "# print(s1.iloc[5]) #Observer here index is out of range so it would throw index error\n",
    "print(s1.iloc[-3]) #Negative indexing also works"
   ]
  },
  {
   "cell_type": "markdown",
   "id": "69e8cc27-eefc-4726-8b5e-4b5fa510e8aa",
   "metadata": {},
   "source": [
    "--Accessing multiple values"
   ]
  },
  {
   "cell_type": "code",
   "execution_count": 49,
   "id": "bb4c9547-8644-40ba-9ce3-7648c06c9ed8",
   "metadata": {},
   "outputs": [
    {
     "name": "stdout",
     "output_type": "stream",
     "text": [
      "1    WashingtonDC\n",
      "3           Paris\n",
      "dtype: object\n"
     ]
    }
   ],
   "source": [
    "s1 = pd.Series(['NewDelhi','WashingtonDC', 'London', 'Paris'])\n",
    "print(s1[[1,3]])"
   ]
  },
  {
   "cell_type": "code",
   "execution_count": 50,
   "id": "0f1c5c9b-2483-4841-9666-9a6b2c6851a1",
   "metadata": {},
   "outputs": [
    {
     "data": {
      "text/plain": [
       "India    NewDelhi\n",
       "UK         London\n",
       "dtype: object"
      ]
     },
     "execution_count": 50,
     "metadata": {},
     "output_type": "execute_result"
    }
   ],
   "source": [
    "s5 = pd.Series(['NewDelhi','WashingtonDC', 'London', 'Paris'],index=['India', 'USA', 'UK', 'France'])\n",
    "s5[[\"India\",\"UK\"]]"
   ]
  },
  {
   "cell_type": "code",
   "execution_count": 52,
   "id": "499336ff-edbe-49e6-a53a-e3ed57b1beac",
   "metadata": {},
   "outputs": [
    {
     "data": {
      "text/plain": [
       "India     NewDelhi\n",
       "France       Paris\n",
       "dtype: object"
      ]
     },
     "execution_count": 52,
     "metadata": {},
     "output_type": "execute_result"
    }
   ],
   "source": [
    "s5 = pd.Series(['NewDelhi','WashingtonDC', 'London', 'Paris'],index=['India', 'USA', 'UK', 'France'])\n",
    "s5.iloc[[0,3]]"
   ]
  },
  {
   "cell_type": "markdown",
   "id": "cf020381-ab92-4bb1-a60f-4cfabae5af4b",
   "metadata": {},
   "source": [
    "--Changing Index of existing series"
   ]
  },
  {
   "cell_type": "code",
   "execution_count": 55,
   "id": "ea3c1df9-4d05-42ed-b26c-bac95329caac",
   "metadata": {},
   "outputs": [
    {
     "name": "stdout",
     "output_type": "stream",
     "text": [
      "India         NewDelhi\n",
      "USA       WashingtonDC\n",
      "UK              London\n",
      "France           Paris\n",
      "dtype: object\n"
     ]
    },
    {
     "data": {
      "text/plain": [
       "10        NewDelhi\n",
       "20    WashingtonDC\n",
       "30          London\n",
       "40           Paris\n",
       "dtype: object"
      ]
     },
     "execution_count": 55,
     "metadata": {},
     "output_type": "execute_result"
    }
   ],
   "source": [
    "s5 = pd.Series(['NewDelhi','WashingtonDC', 'London', 'Paris'],index=['India', 'USA', 'UK', 'France'])\n",
    "print(s5)\n",
    "s5.index=[10,20,30,40]\n",
    "s5"
   ]
  },
  {
   "cell_type": "markdown",
   "id": "ca3d7393-85c3-45d8-aa0f-652076ea58ad",
   "metadata": {},
   "source": [
    "**Slicing**"
   ]
  },
  {
   "cell_type": "code",
   "execution_count": 74,
   "id": "c8995200-f9fb-4d33-a80d-796eb08b70ad",
   "metadata": {},
   "outputs": [
    {
     "name": "stdout",
     "output_type": "stream",
     "text": [
      "France           Paris\n",
      "UK              London\n",
      "USA       WashingtonDC\n",
      "India         NewDelhi\n",
      "dtype: object\n"
     ]
    }
   ],
   "source": [
    "s5 = pd.Series(['NewDelhi', 'WashingtonDC', 'London','Paris'], index=['India', 'USA', 'UK', 'France'])\n",
    "# print(s5[0:2])\n",
    "# print(s5['India':\"UK\"]) # observer the difference in label based slicing\n",
    "# print(s5['France':\"UK\"]) #Here it returns nothing as it is not valid range\n",
    "# print(s5['France':\"UK\":-1]) #Here negative index defines direction, don't worry much it is advanced concept\n",
    "#                             #Note it down for now later we can discuss\n",
    "# print(s5[::-1])"
   ]
  },
  {
   "cell_type": "code",
   "execution_count": 75,
   "id": "0f52fb79-2027-4450-98a3-2dcb9e0eae5a",
   "metadata": {},
   "outputs": [
    {
     "name": "stdout",
     "output_type": "stream",
     "text": [
      "France           Paris\n",
      "UK              London\n",
      "USA       WashingtonDC\n",
      "India         NewDelhi\n",
      "dtype: object\n"
     ]
    }
   ],
   "source": [
    "s5 = pd.Series(['NewDelhi', 'WashingtonDC', 'London','Paris'], index=['India', 'USA', 'UK', 'France'])\n",
    "# print(s5.iloc[0:2])\n",
    "# print(s5.iloc[-3:-1])\n",
    "# print(s5.iloc[0:2:-1])\n",
    "print(s5.iloc[::-1])\n"
   ]
  },
  {
   "cell_type": "markdown",
   "id": "9009dd9c-e906-4ba2-9bdf-b2f80272ff20",
   "metadata": {},
   "source": [
    "**Using slicing to modify the values**"
   ]
  },
  {
   "cell_type": "code",
   "execution_count": 94,
   "id": "99b0a32e-1b68-4b9f-9aa6-475e9c6b7b5e",
   "metadata": {},
   "outputs": [
    {
     "name": "stdout",
     "output_type": "stream",
     "text": [
      "a    10\n",
      "b    11\n",
      "c    12\n",
      "d    50\n",
      "e    50\n",
      "f    15\n",
      "dtype: int32\n"
     ]
    }
   ],
   "source": [
    "s1 = pd.Series(np.arange(10,16,1),index = ['a', 'b', 'c', 'd', 'e', 'f'])\n",
    "\n",
    "s1[0:3] = 50\n",
    "\n",
    "# s1[0:3] = [50,60,70]\n",
    "# s1[0:3] = [50,60]\n",
    "\n",
    "print(s1)"
   ]
  },
  {
   "cell_type": "code",
   "execution_count": 91,
   "id": "55da5c86-4405-408a-b506-abffd8d9de9e",
   "metadata": {},
   "outputs": [
    {
     "name": "stdout",
     "output_type": "stream",
     "text": [
      "a    10\n",
      "b    11\n",
      "c    12\n",
      "d    13\n",
      "e    14\n",
      "f    15\n",
      "dtype: int32\n"
     ]
    }
   ],
   "source": [
    "s1 = pd.Series(np.arange(10,16,1),index = ['a', 'b', 'c', 'd', 'e', 'f'])\n",
    "\n",
    "# s1.iloc[0:3] = 50\n",
    "\n",
    "# s1.iloc[0:3] = [50,60,70]\n",
    "# s1.iloc[0:3] = [50,60]\n",
    "\n",
    "print(s1)"
   ]
  },
  {
   "cell_type": "markdown",
   "id": "8300754c-e62c-424c-ac53-6cffb6ac9250",
   "metadata": {},
   "source": [
    "**Attributes of Series**"
   ]
  },
  {
   "cell_type": "code",
   "execution_count": 108,
   "id": "7ef3539f-aa63-40c9-ad80-6400dcb8202f",
   "metadata": {},
   "outputs": [
    {
     "name": "stdout",
     "output_type": "stream",
     "text": [
      "['NewDelhi' 'WashingtonDC' 'London' 'Paris']\n",
      "4\n",
      "False\n"
     ]
    }
   ],
   "source": [
    "s5 = pd.Series(['NewDelhi', 'WashingtonDC', 'London','Paris'], index=['India', 'USA', 'UK', 'France'])\n",
    "\n",
    "# s5.name = \"Capitals\"\n",
    "# print(s5.name)\n",
    "\n",
    "# print(s5.index)\n",
    "\n",
    "# s5.index.name = \"Countries\"\n",
    "# print(s5.index.name)\n",
    "# print(s5)\n",
    "\n",
    "print(s5.values)\n",
    "\n",
    "print(s5.size)\n",
    "\n",
    "print(s5.empty)"
   ]
  },
  {
   "cell_type": "markdown",
   "id": "c0b9625d-a9f9-40fa-9e87-edb21b3ae68f",
   "metadata": {},
   "source": [
    "**Methods in series**"
   ]
  },
  {
   "cell_type": "code",
   "execution_count": 117,
   "id": "1c4c3487-3aee-4596-9340-9f9453364cc1",
   "metadata": {},
   "outputs": [
    {
     "name": "stdout",
     "output_type": "stream",
     "text": [
      "0    10\n",
      "1    20\n",
      "2    50\n",
      "3    70\n",
      "4    40\n",
      "dtype: int64\n",
      "<class 'pandas.core.series.Series'>\n",
      "0    10\n",
      "1    20\n",
      "dtype: int64\n"
     ]
    }
   ],
   "source": [
    "s5 = pd.Series([10,20,50,70,40,100])\n",
    "\n",
    "print(s5.head()) #default is 5 values\n",
    "print(type(s5.head()))\n",
    "print(s5.head(2))"
   ]
  },
  {
   "cell_type": "code",
   "execution_count": 118,
   "id": "32f64dc9-f121-4500-bb1b-3d9f580f8429",
   "metadata": {},
   "outputs": [
    {
     "name": "stdout",
     "output_type": "stream",
     "text": [
      "6\n"
     ]
    }
   ],
   "source": [
    "s5 = pd.Series([10,20,50,70,40,100])\n",
    "print(s5.count()) # returns non NaN values"
   ]
  },
  {
   "cell_type": "code",
   "execution_count": 119,
   "id": "6c2a370f-1727-4312-8020-df0c5080d12d",
   "metadata": {},
   "outputs": [
    {
     "name": "stdout",
     "output_type": "stream",
     "text": [
      "1     20\n",
      "2     50\n",
      "3     70\n",
      "4     40\n",
      "5    100\n",
      "dtype: int64\n"
     ]
    }
   ],
   "source": [
    "s5 = pd.Series([10,20,50,70,40,100])\n",
    "print(s5.tail())"
   ]
  },
  {
   "cell_type": "markdown",
   "id": "dd31e367-34cf-4ae5-a8a6-27549706036a",
   "metadata": {},
   "source": [
    "**Operations on series**"
   ]
  },
  {
   "cell_type": "code",
   "execution_count": 132,
   "id": "61fb2a58-98eb-41e2-b0e3-0a6b30ec7ca4",
   "metadata": {},
   "outputs": [
    {
     "name": "stdout",
     "output_type": "stream",
     "text": [
      "0    11\n",
      "1    22\n",
      "2    -7\n",
      "3   -46\n",
      "4    65\n",
      "dtype: int64\n"
     ]
    }
   ],
   "source": [
    "s1 = pd.Series([1,2,3,4,5])\n",
    "s2 = pd.Series([10,20,-10,-50,60])\n",
    "print(s1+s2)"
   ]
  },
  {
   "cell_type": "code",
   "execution_count": 161,
   "id": "aec4be12-034a-4da8-9f9e-4c29073b24b4",
   "metadata": {},
   "outputs": [
    {
     "name": "stdout",
     "output_type": "stream",
     "text": [
      "0    11.0\n",
      "1    22.0\n",
      "2    -7.0\n",
      "3   -46.0\n",
      "4     NaN\n",
      "dtype: float64\n",
      "<class 'numpy.float64'>\n"
     ]
    }
   ],
   "source": [
    "s1 = pd.Series([1,2,3,4,5])\n",
    "s2 = pd.Series([10,20,-10,-50])\n",
    "s3 = s1+s2\n",
    "print(s3)\n",
    "# print(type(s3[4])) #<class 'numpy.float64'>"
   ]
  },
  {
   "cell_type": "code",
   "execution_count": 130,
   "id": "8ddcea52-7c70-4d51-a3a4-e77ac231b928",
   "metadata": {},
   "outputs": [
    {
     "name": "stdout",
     "output_type": "stream",
     "text": [
      "a    31.0\n",
      "b     NaN\n",
      "z     NaN\n",
      "dtype: float64\n"
     ]
    }
   ],
   "source": [
    "s1 = pd.Series([11,22], index =['a', 'b'])\n",
    "s2 = pd.Series([10,20],index = ['z','a'])\n",
    "\n",
    "print(s1+s2)\n",
    "\n",
    "#Practice Question\n",
    "# s1 = pd.Series([1,2,3,4,5], index =['a', 'b', 'c', 'd', 'e'])\n",
    "# s2 = pd.Series([10,20,-10,-50,100],index = ['z', 'y', 'a', 'c', 'e'])\n",
    "# print(s1+s2) #Since NaN is there in output it is in decimal"
   ]
  },
  {
   "cell_type": "code",
   "execution_count": null,
   "id": "a369aa9e-5cf9-4444-92fe-9dff70dc7ab5",
   "metadata": {},
   "outputs": [],
   "source": [
    "# Explanation of practice\n",
    "# index s1 s2  s1+s2\n",
    "# a     1 -10   -9.0\n",
    "# b     2        NaN\n",
    "# c     3 -50   -47.0\n",
    "# d     4        NaN\n",
    "# e     5  100   105.00\n",
    "# y        20    NaN\n",
    "# z        10    NaN"
   ]
  },
  {
   "cell_type": "code",
   "execution_count": 134,
   "id": "842f57ea-4653-4ef2-8075-01bfd992fec2",
   "metadata": {},
   "outputs": [
    {
     "data": {
      "text/plain": [
       "a    31.0\n",
       "b    22.0\n",
       "z    10.0\n",
       "dtype: float64"
      ]
     },
     "execution_count": 134,
     "metadata": {},
     "output_type": "execute_result"
    }
   ],
   "source": [
    "# Using fill_value\n",
    "s1 = pd.Series([11,22], index =['a', 'b'])\n",
    "s2 = pd.Series([10,20],index = ['z','a'])\n",
    "s1.add(s2, fill_value=0)"
   ]
  },
  {
   "cell_type": "code",
   "execution_count": 138,
   "id": "ad02bb21-46bc-461d-bb55-3a62839327a5",
   "metadata": {},
   "outputs": [
    {
     "name": "stdout",
     "output_type": "stream",
     "text": [
      "a   -9.0\n",
      "b    NaN\n",
      "z    NaN\n",
      "dtype: float64\n",
      "a    -9.0\n",
      "b    22.0\n",
      "z   -10.0\n",
      "dtype: float64\n",
      "a    -9.0\n",
      "b   -78.0\n",
      "z    90.0\n",
      "dtype: float64\n"
     ]
    }
   ],
   "source": [
    "#SUBSTRACTION\n",
    "s1 = pd.Series([11,22], index =['a', 'b'])\n",
    "s2 = pd.Series([10,20],index = ['z','a'])\n",
    "print(s1-s2)\n",
    "\n",
    "# print(s1.sub(s2, fill_value=0))\n",
    "\n",
    "#Practice\n",
    "# print(s1.sub(s2, fill_value=100))"
   ]
  },
  {
   "cell_type": "code",
   "execution_count": 140,
   "id": "f984852e-f444-462f-b836-997187a585ca",
   "metadata": {},
   "outputs": [
    {
     "name": "stdout",
     "output_type": "stream",
     "text": [
      "a    220.0\n",
      "b      NaN\n",
      "z      NaN\n",
      "dtype: float64\n",
      "a    220.0\n",
      "b     22.0\n",
      "z     10.0\n",
      "dtype: float64\n"
     ]
    }
   ],
   "source": [
    "s1 = pd.Series([11,22], index =['a', 'b'])\n",
    "s2 = pd.Series([10,20],index = ['z','a'])\n",
    "\n",
    "# print(s1*s2)\n",
    "# print(s1.mul(s2,fill_value=1))\n"
   ]
  },
  {
   "cell_type": "code",
   "execution_count": 162,
   "id": "36defebe-1207-400f-b4b8-2f941d82a869",
   "metadata": {},
   "outputs": [
    {
     "name": "stdout",
     "output_type": "stream",
     "text": [
      "a    5.05\n",
      "b     NaN\n",
      "z     NaN\n",
      "dtype: float64\n"
     ]
    }
   ],
   "source": [
    "s1 = pd.Series([101,202], index =['a', 'b'])\n",
    "s2 = pd.Series([10,20],index = ['z','a'])\n",
    "\n",
    "s3 = s1/s2\n",
    "print(s3)\n",
    "\n",
    "# print(s1.div(s2,fill_value=1))\n",
    "# print(s1.div(s2,fill_value=0))\n"
   ]
  },
  {
   "cell_type": "code",
   "execution_count": 165,
   "id": "4d8dd6c5-2776-4a33-bfdf-5de8b1e0bb9c",
   "metadata": {},
   "outputs": [
    {
     "name": "stdout",
     "output_type": "stream",
     "text": [
      "a    5.05\n",
      "b    0.00\n",
      "z    0.00\n",
      "dtype: float64\n"
     ]
    }
   ],
   "source": [
    "s1 = pd.Series([101,202], index =['a', 'b'])\n",
    "s2 = pd.Series([10,20],index = ['z','a'])\n",
    "\n",
    "s3 = s1/s2\n",
    "# print(s3.fillna(0)) # It returns the value, does not change the original series\n",
    "# print(s3)\n",
    "\n",
    "# s3 = s1/s2\n",
    "# s3 = s3.fillna(0)\n",
    "# print(s3)"
   ]
  },
  {
   "cell_type": "code",
   "execution_count": 170,
   "id": "abbc756a-62fd-451d-9b89-7c7d47465095",
   "metadata": {},
   "outputs": [
    {
     "name": "stdout",
     "output_type": "stream",
     "text": [
      "140\n"
     ]
    }
   ],
   "source": [
    "s1 = pd.Series([10,20,60,50])\n",
    "print(s1.sum())"
   ]
  }
 ],
 "metadata": {
  "kernelspec": {
   "display_name": "Python 3 (ipykernel)",
   "language": "python",
   "name": "python3"
  },
  "language_info": {
   "codemirror_mode": {
    "name": "ipython",
    "version": 3
   },
   "file_extension": ".py",
   "mimetype": "text/x-python",
   "name": "python",
   "nbconvert_exporter": "python",
   "pygments_lexer": "ipython3",
   "version": "3.11.5"
  }
 },
 "nbformat": 4,
 "nbformat_minor": 5
}
