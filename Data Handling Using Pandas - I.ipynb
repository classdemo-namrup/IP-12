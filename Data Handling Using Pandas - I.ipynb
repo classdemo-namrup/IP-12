{
 "cells": [
  {
   "cell_type": "code",
   "execution_count": 29,
   "id": "e76cf704-bc7c-4f7a-b97c-16778a658e1f",
   "metadata": {},
   "outputs": [],
   "source": [
    "# Pandas: Panel data\n",
    "import pandas as pd"
   ]
  },
  {
   "cell_type": "code",
   "execution_count": null,
   "id": "57a65002-ea94-4561-9549-b8ed7e48cf76",
   "metadata": {},
   "outputs": [],
   "source": [
    "# Declaring series"
   ]
  },
  {
   "cell_type": "code",
   "execution_count": 26,
   "id": "eb673cdb-69f5-4a2e-a3fc-f805f3779e9f",
   "metadata": {},
   "outputs": [],
   "source": [
    "series1 = pd.Series([10,20,30])"
   ]
  },
  {
   "cell_type": "code",
   "execution_count": 27,
   "id": "65ddae73-0c2a-4e77-8505-23172fe90448",
   "metadata": {},
   "outputs": [
    {
     "name": "stdout",
     "output_type": "stream",
     "text": [
      "0    10\n",
      "1    20\n",
      "2    30\n",
      "dtype: int64\n"
     ]
    }
   ],
   "source": [
    "print(series1)"
   ]
  },
  {
   "cell_type": "code",
   "execution_count": null,
   "id": "97c978a3-8359-489f-8d93-57fb67f807a9",
   "metadata": {},
   "outputs": [],
   "source": [
    "# Declaring series with different indexes"
   ]
  },
  {
   "cell_type": "code",
   "execution_count": 13,
   "id": "50c1fdd5-2282-4c03-898d-b93d2ef17fd0",
   "metadata": {},
   "outputs": [],
   "source": [
    "series2 = pd.Series([\"Kavi\",\"Shyam\",\"Ravi\"], index = [3,5,1])"
   ]
  },
  {
   "cell_type": "code",
   "execution_count": 14,
   "id": "6f2c8197-e47b-4262-a725-b974462d27f9",
   "metadata": {},
   "outputs": [
    {
     "name": "stdout",
     "output_type": "stream",
     "text": [
      "3     Kavi\n",
      "5    Shyam\n",
      "1     Ravi\n",
      "dtype: object\n"
     ]
    }
   ],
   "source": [
    "print(series2)"
   ]
  },
  {
   "cell_type": "code",
   "execution_count": 16,
   "id": "b2c4c35b-ad71-44ea-8b43-0b4d91171cf5",
   "metadata": {},
   "outputs": [],
   "source": [
    "# Declaring series with indexes as string\n",
    "series2 = pd.Series([2,3,4],index=[\"Feb\",\"Mar\",\"Apr\"])"
   ]
  },
  {
   "cell_type": "code",
   "execution_count": 17,
   "id": "a200d389-093c-4a24-ac70-23ce1c7d8f16",
   "metadata": {},
   "outputs": [
    {
     "name": "stdout",
     "output_type": "stream",
     "text": [
      "Feb    2\n",
      "Mar    3\n",
      "Apr    4\n",
      "dtype: int64\n"
     ]
    }
   ],
   "source": [
    "print(series2)"
   ]
  },
  {
   "cell_type": "code",
   "execution_count": 20,
   "id": "133f78e3-d1e1-43c0-8a67-dbc0710becc7",
   "metadata": {},
   "outputs": [
    {
     "name": "stdout",
     "output_type": "stream",
     "text": [
      "0    1\n",
      "1    2\n",
      "2    3\n",
      "3    4\n",
      "dtype: int32\n"
     ]
    }
   ],
   "source": [
    "#Creation of Series from numpy array\n",
    "import numpy as np\n",
    "array1 = np.array([1,2,3,4])\n",
    "series3 = pd.Series(array1)\n",
    "print(series3)"
   ]
  },
  {
   "cell_type": "code",
   "execution_count": 22,
   "id": "0fe538c5-f3b8-43a1-9f8e-e066d8a4d9b6",
   "metadata": {},
   "outputs": [],
   "source": [
    "#Creation of series from dictionary\n",
    "d1 = {'India': 'NewDelhi', 'UK':\n",
    "'London', 'Japan': 'Tokyo'}\n"
   ]
  },
  {
   "cell_type": "code",
   "execution_count": 25,
   "id": "2a60f050-1c40-45f0-8b30-da43692c154c",
   "metadata": {},
   "outputs": [
    {
     "name": "stdout",
     "output_type": "stream",
     "text": [
      "India    NewDelhi\n",
      "UK         London\n",
      "Japan       Tokyo\n",
      "dtype: object\n"
     ]
    }
   ],
   "source": [
    "series8 = pd.Series(d1)\n",
    "print(series8)"
   ]
  },
  {
   "cell_type": "code",
   "execution_count": 30,
   "id": "4192abda-a64a-4058-b4d1-564d82330d82",
   "metadata": {},
   "outputs": [
    {
     "data": {
      "text/plain": [
       "30"
      ]
     },
     "execution_count": 30,
     "metadata": {},
     "output_type": "execute_result"
    }
   ],
   "source": [
    "seriesNum = pd.Series([10,20,30])\n",
    "seriesNum[2]"
   ]
  },
  {
   "cell_type": "code",
   "execution_count": 31,
   "id": "8bebe65a-44ea-420c-8b23-578e78fc87ff",
   "metadata": {},
   "outputs": [
    {
     "data": {
      "text/plain": [
       "3"
      ]
     },
     "execution_count": 31,
     "metadata": {},
     "output_type": "execute_result"
    }
   ],
   "source": [
    "seriesMnths = pd.Series([2,3,4],index=[\"Feb\",\"Mar\",\"Apr\"])\n",
    "seriesMnths[\"Mar\"]"
   ]
  },
  {
   "cell_type": "code",
   "execution_count": 34,
   "id": "19848a8d-f074-4fd7-8966-afdb1658620b",
   "metadata": {},
   "outputs": [
    {
     "data": {
      "text/plain": [
       "'NewDelhi'"
      ]
     },
     "execution_count": 34,
     "metadata": {},
     "output_type": "execute_result"
    }
   ],
   "source": [
    "seriesCapCntry = pd.Series(['NewDelhi','WashingtonDC', 'London', 'Paris'], index=['India', 'USA', 'UK', 'France'])\n",
    "seriesCapCntry['India']"
   ]
  },
  {
   "cell_type": "code",
   "execution_count": 35,
   "id": "8d7acc65-86c8-4e02-a381-e8ffa6a64254",
   "metadata": {},
   "outputs": [
    {
     "name": "stderr",
     "output_type": "stream",
     "text": [
      "C:\\Users\\vivek\\AppData\\Local\\Temp\\ipykernel_1388\\3676189266.py:1: FutureWarning: Series.__getitem__ treating keys as positions is deprecated. In a future version, integer keys will always be treated as labels (consistent with DataFrame behavior). To access a value by position, use `ser.iloc[pos]`\n",
      "  seriesCapCntry[1]\n"
     ]
    },
    {
     "data": {
      "text/plain": [
       "'WashingtonDC'"
      ]
     },
     "execution_count": 35,
     "metadata": {},
     "output_type": "execute_result"
    }
   ],
   "source": [
    "seriesCapCntry[1]"
   ]
  }
 ],
 "metadata": {
  "kernelspec": {
   "display_name": "Python 3 (ipykernel)",
   "language": "python",
   "name": "python3"
  },
  "language_info": {
   "codemirror_mode": {
    "name": "ipython",
    "version": 3
   },
   "file_extension": ".py",
   "mimetype": "text/x-python",
   "name": "python",
   "nbconvert_exporter": "python",
   "pygments_lexer": "ipython3",
   "version": "3.11.5"
  }
 },
 "nbformat": 4,
 "nbformat_minor": 5
}
